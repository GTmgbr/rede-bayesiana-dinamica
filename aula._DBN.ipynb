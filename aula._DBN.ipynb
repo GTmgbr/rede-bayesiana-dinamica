{
 "cells": [
  {
   "cell_type": "markdown",
   "id": "41bff807",
   "metadata": {},
   "source": [
    "## O Cenário #\n",
    "\n",
    "Imagine uma grande fazenda moderna que dividiu suas terras em 200 talhões (lotes de terra). Para cada talhão, a fazenda quer monitorar a saúde do solo, que pode ser Rica, Moderada ou Pobre em nutrientes. Medir diretamente a saúde do solo (com análises químicas) é caro e lento.\n",
    "\n",
    "No entanto, toda semana, um drone sobrevoa a fazenda e tira fotos, classificando o aspecto da cultura (a plantação) em cada talhão como Vigoroso, Amarelado ou Murcho. Esta é uma observação barata e rápida.\n",
    "\n",
    "O estado oculto (Saúde do Solo) influencia diretamente o que observamos (Aspecto da Cultura). Além disso, a saúde do solo de uma semana influencia a da semana seguinte (um solo pobre tende a continuar pobre).\n",
    "\n",
    "### O Objetivo do Exercício: ### \n",
    "Construir uma DBN que use o histórico semanal do aspecto visual da cultura (nossa observação) para inferir a saúde real do solo (o estado oculto), permitindo que o agricultor tome decisões informadas sobre onde e quando aplicar fertilizantes."
   ]
  },
  {
   "cell_type": "code",
   "execution_count": 21,
   "id": "62fde967",
   "metadata": {},
   "outputs": [],
   "source": [
    "#install pip install pgmpy"
   ]
  },
  {
   "cell_type": "markdown",
   "id": "78275fd6",
   "metadata": {},
   "source": [
    "## Importando as bibliotecas necessarias ##"
   ]
  },
  {
   "cell_type": "code",
   "execution_count": 22,
   "id": "72b08605",
   "metadata": {},
   "outputs": [],
   "source": [
    "import pandas as pd\n",
    "import numpy as np\n",
    "import matplotlib.pyplot as plt\n",
    "from pgmpy.models import DynamicBayesianNetwork\n",
    "from pgmpy.inference import DBNInference\n",
    "from sklearn.model_selection import train_test_split\n",
    "from sklearn.metrics import classification_report, confusion_matrix, ConfusionMatrixDisplay"
   ]
  },
  {
   "cell_type": "markdown",
   "id": "19ea8757",
   "metadata": {},
   "source": [
    "## Carregar e Mapear os dados ##"
   ]
  },
  {
   "cell_type": "code",
   "execution_count": 23,
   "id": "43c5c05e",
   "metadata": {},
   "outputs": [],
   "source": [
    "df_completo = pd.read_csv('saude_solo_fazenda_GRANDE.csv')\n",
    "\n",
    "map_solo = {0: 'Rico', 1: 'Moderado', 2: 'Pobre'}\n",
    "map_cultura = {0: 'Vigorosa', 1: 'Amarelada', 2: 'Murcha'}"
   ]
  },
  {
   "cell_type": "markdown",
   "id": "8b7bf02b",
   "metadata": {},
   "source": [
    "## Dividindo talhões em treino e teste ##"
   ]
  },
  {
   "cell_type": "code",
   "execution_count": 24,
   "id": "388fb4a9",
   "metadata": {},
   "outputs": [
    {
     "name": "stdout",
     "output_type": "stream",
     "text": [
      "Talhões para treino: 1500. Talhões para teste: 500.\n"
     ]
    }
   ],
   "source": [
    "ids_dos_talhoes = df_completo['talhao_id'].unique()\n",
    "ids_treino, ids_teste = train_test_split(ids_dos_talhoes, test_size=0.25, random_state=42)\n",
    "df_treino = df_completo[df_completo['talhao_id'].isin(ids_treino)]\n",
    "df_teste = df_completo[df_completo['talhao_id'].isin(ids_teste)]\n",
    "print(f\"Talhões para treino: {len(ids_treino)}. Talhões para teste: {len(ids_teste)}.\")"
   ]
  },
  {
   "cell_type": "markdown",
   "id": "943013a1",
   "metadata": {},
   "source": [
    "Pense nesta função como um preparador de \"fotos de antes e depois\". O modelo DBN não aprende olhando para uma semana de cada vez; ele precisa ver o \"antes\" (tempo t) e o \"depois\" (tempo t+1) lado a lado para entender como as coisas mudam.\n",
    "\n",
    "    Linhas 2-3: Primeiro, selecionamos as colunas que nos interessam e as renomeamos para o formato (Variavel, 0), que para a DBN significa \"no tempo t\" (o \"antes\").\n",
    "\n",
    "    Linhas 4-5: Aqui está a mágica. O comando .shift(-1) \"puxa para cima\" toda a coluna em uma posição. Isso coloca o valor da semana seguinte na mesma linha da semana atual, criando as colunas do \"depois\" ((Variavel, 1)).\n",
    "\n",
    "    Linha 6: A última linha do dataframe agora terá valores vazios (NaN) nas colunas do \"depois\", pois não há uma semana seguinte para \"puxar\". O .dropna() simplesmente remove essa linha inútil."
   ]
  },
  {
   "cell_type": "markdown",
   "id": "31bc2f8e",
   "metadata": {},
   "source": [
    "## Preparar os dados de treino para a DBN ##"
   ]
  },
  {
   "cell_type": "code",
   "execution_count": 25,
   "id": "2acf97ce",
   "metadata": {},
   "outputs": [],
   "source": [
    "def preparar_fatia_temporal(df_talhao):\n",
    "    df_talhao = df_talhao[['saude_solo_int', 'aspecto_cultura_int']].copy()\n",
    "    df_talhao.columns = [('Solo', 0), ('Cultura', 0)]\n",
    "    df_talhao[('Solo', 1)] = df_talhao[('Solo', 0)].shift(-1)\n",
    "    df_talhao[('Cultura', 1)] = df_talhao[('Cultura', 0)].shift(-1)\n",
    "    return df_talhao.dropna()"
   ]
  },
  {
   "cell_type": "code",
   "execution_count": 26,
   "id": "2dfa5520",
   "metadata": {},
   "outputs": [
    {
     "name": "stderr",
     "output_type": "stream",
     "text": [
      "C:\\Users\\danig\\AppData\\Local\\Temp\\ipykernel_23040\\2552168561.py:1: DeprecationWarning: DataFrameGroupBy.apply operated on the grouping columns. This behavior is deprecated, and in a future version of pandas the grouping columns will be excluded from the operation. Either pass `include_groups=False` to exclude the groupings or explicitly select the grouping columns after groupby to silence this warning.\n",
      "  dados_para_treino = df_treino.groupby('talhao_id').apply(preparar_fatia_temporal).reset_index(drop=True)\n"
     ]
    }
   ],
   "source": [
    "dados_para_treino = df_treino.groupby('talhao_id').apply(preparar_fatia_temporal).reset_index(drop=True)\n",
    "for col in dados_para_treino.columns:\n",
    "    dados_para_treino[col] = dados_para_treino[col].astype(int)"
   ]
  },
  {
   "cell_type": "markdown",
   "id": "ed72c736",
   "metadata": {},
   "source": [
    "## Definir e treinar o modelo ##"
   ]
  },
  {
   "cell_type": "markdown",
   "id": "05b1245f",
   "metadata": {},
   "source": [
    "\"Antes de escrever qualquer código, vamos pensar no nosso problema da fazenda como se estivéssemos desenhando um diagrama no quadro. Nós temos duas ideias principais, ou 'leis da natureza', que queremos que nosso modelo entenda.\"\n",
    "\n",
    "Passo 1: As Duas \"Leis\" do Nosso Universo (O Desenho no Quadro)\n",
    "\n",
    "\"No nosso cenário da fazenda, temos duas regras fundamentais:\"\n",
    "\n",
    "1. A Lei da Transição (Como o mundo evolui com o tempo):\n",
    "\n",
    "    \"A saúde do solo em uma semana influencia diretamente a saúde do solo na semana seguinte.\"\n",
    "\n",
    "    Um solo que é Pobre hoje tem uma alta chance de continuar Pobre na semana que vem.\n",
    "\n",
    "    Visualmente, desenhamos isso como uma seta que cruza o tempo:\n",
    "\n",
    "    Saúde do Solo (hoje) ------------> Saúde do Solo (amanhã)\n",
    "\n",
    "2. A Lei da Emissão (Como o estado oculto causa o que vemos):\n",
    "\n",
    "    \"A saúde do solo em uma determinada semana influencia diretamente a aparência da plantação naquela mesma semana.\"\n",
    "\n",
    "    Um solo Rico \"emite\" o sinal de uma cultura Vigorosa.\n",
    "\n",
    "    Visualmente, é uma seta que aponta do estado oculto para a observação, dentro do mesmo instante de tempo:\n",
    "\n",
    "    Saúde do Solo (hoje) ----> Aspecto da Cultura (hoje)\n",
    "\n",
    "\"Se combinarmos isso, nosso 'desenho' para dois momentos no tempo (hoje e amanhã, ou t e t+1) fica assim:\"\n",
    "\n",
    "      [Solo (t)] --------> [Solo (t+1)]\n",
    "          |                      |\n",
    "          |                      |\n",
    "          v                      v\n",
    "      [Cultura (t)]          [Cultura (t+1)]\n",
    "\n",
    "\"Este diagrama é a estrutura do nosso modelo. É a nossa hipótese sobre como as variáveis se relacionam. Agora, como traduzimos este desenho para o código Python?\"\n",
    "\n",
    "Passo 2: A Sintaxe do pgmpy - Entendendo os Nós\n",
    "\n",
    "\"A biblioteca pgmpy representa cada caixa (ou 'nó') do nosso diagrama com uma tupla de dois elementos: ('NomeDaVariavel', fatia_de_tempo).\"\n",
    "\n",
    "    ('Solo', 0) representa a caixa \"Solo no tempo t\" (o \"hoje\").\n",
    "\n",
    "    ('Solo', 1) representa a caixa \"Solo no tempo t+1\" (o \"amanhã\").\n",
    "\n",
    "    ('Cultura', 0) representa a caixa \"Cultura no tempo t\".\n",
    "\n",
    "    ('Cultura', 1) representa a caixa \"Cultura no tempo t+1\".\n",
    "\n",
    "\"O 0 e o 1 não são tempos absolutos, são apenas rótulos para a fatia 'antes' e 'depois' no nosso diagrama.\"\n",
    "\n",
    "Passo 3: Traduzindo as \"Leis\" para \"Arestas\" de Código\n",
    "\n",
    "\"Agora, vamos traduzir cada seta do nosso desenho para uma 'aresta' de código. Uma aresta é simplesmente uma tupla contendo o nó de origem e o nó de destino.\"\n",
    "\n",
    "    Lei da Transição:\n",
    "\n",
    "        A seta [Solo (t)] ---> [Solo (t+1)]\n",
    "\n",
    "        Se traduz para a tupla: ( ('Solo', 0), ('Solo', 1) )\n",
    "\n",
    "    Lei da Emissão no tempo t:\n",
    "\n",
    "        A seta [Solo (t)] ---> [Cultura (t)]\n",
    "\n",
    "        Se traduz para a tupla: ( ('Solo', 0), ('Cultura', 0) )\n",
    "\n",
    "    Lei da Emissão no tempo t+1:\n",
    "\n",
    "        A seta [Solo (t+1)] ---> [Cultura (t+1)]\n",
    "\n",
    "        Se traduz para a tupla: ( ('Solo', 1), ('Cultura', 1) )"
   ]
  },
  {
   "cell_type": "code",
   "execution_count": null,
   "id": "4d77c298",
   "metadata": {},
   "outputs": [
    {
     "name": "stderr",
     "output_type": "stream",
     "text": [
      "INFO:pgmpy: Datatype (N=numerical, C=Categorical Unordered, O=Categorical Ordered) inferred from data: \n",
      " {'Solo_0': 'N', 'Cultura_0': 'N', 'Solo_1': 'N', 'Cultura_1': 'N'}\n"
     ]
    },
    {
     "name": "stdout",
     "output_type": "stream",
     "text": [
      "Modelo treinado com sucesso.\n"
     ]
    }
   ],
   "source": [
    "dbn_model = DynamicBayesianNetwork()\n",
    "dbn_model.add_edges_from([\n",
    "    (('Solo', 0), ('Cultura', 0)),\n",
    "    (('Solo', 0), ('Solo', 1)),\n",
    "    (('Solo', 1), ('Cultura', 1)),\n",
    "])"
   ]
  },
  {
   "cell_type": "markdown",
   "id": "d105bcad",
   "metadata": {},
   "source": [
    "Se a DBNInference é a \"prova final\", o .fit() é o \"período de estudo intensivo\".\n",
    "\n",
    "    dbn_model: É o nosso \"aluno\". Ele já tem a estrutura do conhecimento (as arestas que definimos), mas suas tabelas de probabilidade estão vazias. Ele ainda não sabe nada.\n",
    "\n",
    "    .fit(): É o comando que diz: \"estude!\".\n",
    "\n",
    "    dados_para_treino: É todo o material de estudo. É aquele DataFrame especial que preparamos com a função preparar_fatia_temporal, cheio de exemplos de \"antes e depois\".\n",
    "\n",
    "    estimator=\"MLE\": É o método de estudo. \"MLE\" significa Maximum Likelihood Estimator (Estimador de Máxima Verossimilhança). De forma simples, o método MLE funciona contando as frequências no material de estudo. Para aprender a probabilidade de um solo Pobre continuar Pobre, ele conta: \"De todas as vezes que o solo era Pobre no tempo t, em qual porcentagem de vezes ele também era Pobre no tempo t+1?\". Ele faz isso para todas as combinações possíveis, preenchendo suas tabelas de probabilidade com as estatísticas que melhor explicam os dados que ele viu."
   ]
  },
  {
   "cell_type": "code",
   "execution_count": null,
   "id": "7164a6da",
   "metadata": {},
   "outputs": [],
   "source": [
    "dbn_model.fit(dados_para_treino, estimator=\"MLE\")\n",
    "print(\"Modelo treinado com sucesso.\")"
   ]
  },
  {
   "cell_type": "markdown",
   "id": "9f317fe5",
   "metadata": {},
   "source": [
    "Este bloco de código é a \"prova final\" do nosso modelo. Nós passamos por cada talhão que o modelo nunca viu antes (o conjunto de teste) e fazemos o seguinte:\n",
    "\n",
    "    Isolamos um Aluno: Pegamos os dados de um único talhao_id para testar.\n",
    "\n",
    "    Preparamos a Prova: Criamos o evidencia_dict. Isso é como entregar a prova para o modelo, mas apenas com as perguntas (as observacoes que vimos, como o aspecto da cultura), escondendo as respostas (o saude_solo_int real).\n",
    "\n",
    "    O Modelo \"Pensa\": A linha dbn_inference.query(...) é o momento em que o modelo usa todo o seu conhecimento para \"preencher as lacunas\". Ele olha para a sequência de observações e infere qual é a sequência de estados ocultos mais provável que poderia ter gerado o que ele viu.\n",
    "\n",
    "    Extraímos a Resposta: O resultado do .query() é uma probabilidade para cada estado em cada semana. A linha solo_inferido = [np.argmax(fator.values)...] simplesmente escolhe o estado com a maior probabilidade em cada semana para ser a resposta final do modelo.\n",
    "\n",
    "    Guardamos Tudo: Ao final, adicionamos as respostas do modelo (lista_inferidos) e as respostas corretas (lista_reais) a uma lista geral. Depois que o loop terminar, usaremos essas listas para dar a \"nota final\" do modelo (o relatório de classificação)."
   ]
  },
  {
   "cell_type": "markdown",
   "id": "e80585d0",
   "metadata": {},
   "source": [
    "## Avaliação no conjunto de teste ##"
   ]
  },
  {
   "cell_type": "code",
   "execution_count": 28,
   "id": "a6385e41",
   "metadata": {},
   "outputs": [
    {
     "name": "stderr",
     "output_type": "stream",
     "text": [
      "WARNING:pgmpy:Replacing existing CPD for (Solo, 1)\n"
     ]
    }
   ],
   "source": [
    "lista_reais = []\n",
    "lista_inferidos = []\n",
    "dbn_inference = DBNInference(dbn_model)\n",
    "\n",
    "for talhao_id in ids_teste:\n",
    "    df_talhao_teste = df_teste[df_teste['talhao_id'] == talhao_id]\n",
    "    observacoes = df_talhao_teste['aspecto_cultura_int'].tolist()\n",
    "    n_semanas = len(observacoes)\n",
    "    evidencia_dict = {('Cultura', t): observacoes[t] for t in range(n_semanas)}\n",
    "    variaveis_query = [('Solo', t) for t in range(n_semanas)]\n",
    "    \n",
    "    resultado_inferencia = dbn_inference.query(variables=variaveis_query, evidence=evidencia_dict)\n",
    "    fatores = [f for t, f in sorted(resultado_inferencia.items())]\n",
    "    solo_inferido = [np.argmax(fator.values) for fator in fatores]\n",
    "    \n",
    "    lista_inferidos.extend(solo_inferido)\n",
    "    lista_reais.extend(df_talhao_teste['saude_solo_int'].tolist())"
   ]
  },
  {
   "cell_type": "markdown",
   "id": "d1bb27cd",
   "metadata": {},
   "source": [
    "## Análise dos resultados de teste ##"
   ]
  },
  {
   "cell_type": "code",
   "execution_count": null,
   "id": "57e80e82",
   "metadata": {},
   "outputs": [
    {
     "name": "stdout",
     "output_type": "stream",
     "text": [
      "\n",
      "Relatório de Classificação Detalhado:\n",
      "              precision    recall  f1-score   support\n",
      "\n",
      "        Rico       0.89      0.76      0.82     15687\n",
      "    Moderado       0.46      0.43      0.44      7430\n",
      "       Pobre       0.38      0.75      0.50      2883\n",
      "\n",
      "    accuracy                           0.66     26000\n",
      "   macro avg       0.57      0.64      0.59     26000\n",
      "weighted avg       0.71      0.66      0.67     26000\n",
      "\n",
      "Matriz de Confusão:\n"
     ]
    },
    {
     "data": {
      "image/png": "[encoded data removed]",
      "text/plain": [
       "<Figure size 640x480 with 2 Axes>"
      ]
     },
     "metadata": {},
     "output_type": "display_data"
    }
   ],
   "source": [
    "nomes_das_classes = list(map_solo.values())\n",
    "\n",
    "print(\"\\nRelatório de Classificação Detalhado:\")\n",
    "print(classification_report(lista_reais, lista_inferidos, target_names=nomes_das_classes))\n",
    "\n",
    "print(\"Matriz de Confusão:\")\n",
    "cm = confusion_matrix(lista_reais, lista_inferidos)\n",
    "disp = ConfusionMatrixDisplay(confusion_matrix=cm, display_labels=nomes_das_classes)\n",
    "disp.plot(cmap=plt.cm.Blues)\n",
    "plt.title(\"Matriz de Confusão - Saúde do Solo (Teste)\")\n",
    "plt.show()"
   ]
  },
  {
   "cell_type": "markdown",
   "id": "12d15146",
   "metadata": {},
   "source": [
    "## O Impacto da Escala - Aumentando a Quantidade de Dados\n",
    "\n",
    "### O Objetivo: \n",
    "Vamos repetir nosso exercício da \"Fazenda Inteligente\", mas em vez de simular 200 talhões, vamos simular 2000 talhões (10 vezes mais dados), mantendo os 52 meses de histórico. Isso nos dará um total de mais de 100.000 registros.\n",
    "\n",
    "### A Hipótese: \n",
    "Nossa expectativa é que, com um volume de dados muito maior, o modelo será capaz de aprender as nuances e as fronteiras entre as classes (especialmente a difícil classe Moderado) com muito mais precisão."
   ]
  },
  {
   "cell_type": "markdown",
   "id": "b99978d7",
   "metadata": {},
   "source": [
    "Só precisamos trocar o csv de saude_solo_fazenda.csv para saude_solo_fazenda_GRANDE.csv"
   ]
  },
  {
   "cell_type": "markdown",
   "id": "6918c2e4",
   "metadata": {},
   "source": [
    "Análise dos Resultados da Fase 2\n",
    "\n",
    "Agora, vamos comparar o novo relatório com o da Fase 1, que vimos no início.\n",
    "\n",
    "(Aqui você mostra os dois relatórios lado a lado e guia a discussão)\n",
    "\n",
    "Perguntas a serem respondidas:\n",
    "\n",
    "    A acurácia geral aumentou como esperávamos?\n",
    "\n",
    "    O que aconteceu com a precisão e o recall da nossa classe mais fraca, a Moderado?\n",
    "\n",
    "    Vemos alguma mudança significativa na performance da classe Pobre?\n",
    "\n",
    "Como podemos ver, os resultados quase não mudaram! Aumentar os dados em 10 vezes não resolveu o problema fundamental. Isso nos ensina uma lição crucial sobre o 'platô de performance' e nos prepara perfeitamente para a Fase 3, onde vamos atacar o problema de outra forma: enriquecendo a qualidade dos nossos dados, e não apenas a quantidade."
   ]
  },
  {
   "cell_type": "markdown",
   "id": "57ce2fec",
   "metadata": {},
   "source": [
    "## Aumentando a Riqueza dos Dados (Múltiplas Observações)\n",
    "\n",
    "## O Cenário: \n",
    "Continuamos na nossa fazenda de 200 talhões. Mas agora, nosso drone não é apenas uma câmera. Ele foi equipado com novos sensores e agora nos dá três observações toda semana:\n",
    "\n",
    "    aspecto_cultura_int (a que já tínhamos).\n",
    "\n",
    "    umidade_solo_obs_int: Um sensor de umidade (0: Seco, 1: Úmido, 2: Encharcado).\n",
    "\n",
    "    pragas_obs_int: Um sistema de visão que detecta a presença de pragas (0: Nenhuma, 1: Poucas, 2: Muitas).\n",
    "\n",
    "## A Hipótese: \n",
    "Com três fontes de evidência em vez de uma, o modelo terá muito mais facilidade em distinguir os estados de risco, especialmente a classe Moderado."
   ]
  },
  {
   "cell_type": "markdown",
   "id": "4e36030e",
   "metadata": {},
   "source": [
    "### Principais mudanças feitas na parte 3 em comparação com a parte 1:\n",
    "1. A Estrutura da Rede (add_edges_from):\n",
    "Nossa \"planta baixa\" agora é mais complexa. O estado Solo influencia três observações, não apenas uma.\n",
    "2. A Preparação dos Dados:\n",
    "Nossa função preparar_fatia_temporal_multi agora precisa selecionar e processar as novas colunas de dados (umidade_solo_int, pragas_int).\n",
    "3. A Evidência para Inferência:\n",
    "Quando formos testar o modelo, o evidencia_dict será muito mais rico. Em vez de darmos apenas uma informação por semana, agora forneceremos três. É como um médico que, em vez de ter apenas a aparência do paciente, agora tem também a temperatura e a pressão arterial para fazer seu diagnóstico."
   ]
  },
  {
   "cell_type": "code",
   "execution_count": 33,
   "id": "4aca9e15",
   "metadata": {},
   "outputs": [],
   "source": [
    "df_completo = pd.read_csv('saude_solo_fazenda_MULTIVARIADO.csv')\n",
    "\n",
    "map_solo = {0: 'Rico', 1: 'Moderado', 2: 'Pobre'}"
   ]
  },
  {
   "cell_type": "code",
   "execution_count": 34,
   "id": "010a5c78",
   "metadata": {},
   "outputs": [
    {
     "name": "stdout",
     "output_type": "stream",
     "text": [
      "Talhões para treino: 150. Talhões para teste: 50.\n"
     ]
    }
   ],
   "source": [
    "ids_dos_talhoes = df_completo['talhao_id'].unique()\n",
    "ids_treino, ids_teste = train_test_split(ids_dos_talhoes, test_size=0.25, random_state=42)\n",
    "df_treino = df_completo[df_completo['talhao_id'].isin(ids_treino)]\n",
    "df_teste = df_completo[df_completo['talhao_id'].isin(ids_teste)]\n",
    "print(f\"Talhões para treino: {len(ids_treino)}. Talhões para teste: {len(ids_teste)}.\")"
   ]
  },
  {
   "cell_type": "markdown",
   "id": "e86bf8bc",
   "metadata": {},
   "source": [
    "## Adaptar dados do treino ##"
   ]
  },
  {
   "cell_type": "code",
   "execution_count": 35,
   "id": "59482620",
   "metadata": {},
   "outputs": [
    {
     "name": "stderr",
     "output_type": "stream",
     "text": [
      "C:\\Users\\danig\\AppData\\Local\\Temp\\ipykernel_23040\\1028041590.py:14: DeprecationWarning: DataFrameGroupBy.apply operated on the grouping columns. This behavior is deprecated, and in a future version of pandas the grouping columns will be excluded from the operation. Either pass `include_groups=False` to exclude the groupings or explicitly select the grouping columns after groupby to silence this warning.\n",
      "  dados_para_treino = df_treino.groupby('talhao_id').apply(preparar_fatia_temporal_multi).reset_index(drop=True)\n"
     ]
    }
   ],
   "source": [
    "def preparar_fatia_temporal_multi(df_talhao):\n",
    "    # Selecionamos todas as colunas relevantes\n",
    "    cols_t0 = ['saude_solo_int', 'aspecto_cultura_int', 'umidade_solo_int', 'pragas_int']\n",
    "    df_t0 = df_talhao[cols_t0].copy()\n",
    "    # Renomeamos com a tupla (variável, tempo)\n",
    "    df_t0.columns = [('Solo', 0), ('Cultura', 0), ('Umidade', 0), ('Pragas', 0)]\n",
    "    \n",
    "    # Criamos as colunas para o tempo t+1\n",
    "    for col_name, time_slice in df_t0.columns:\n",
    "        df_t0[(col_name, 1)] = df_t0[(col_name, 0)].shift(-1)\n",
    "        \n",
    "    return df_t0.dropna()\n",
    "\n",
    "dados_para_treino = df_treino.groupby('talhao_id').apply(preparar_fatia_temporal_multi).reset_index(drop=True)\n",
    "for col in dados_para_treino.columns:\n",
    "    dados_para_treino[col] = dados_para_treino[col].astype(int)"
   ]
  },
  {
   "cell_type": "markdown",
   "id": "c5355999",
   "metadata": {},
   "source": [
    " [Solo (t)] -------------------------------------> [Solo (t+1)]\n",
    "          |                                                  |\n",
    "    +-----+----------------+                         +-------+----------------+\n",
    "    |     |                |                         |       |                |\n",
    "    v     v                v                         v       v                v\n",
    "[Cultura (t)] [Umidade (t)] [Pragas (t)]        [Cultura (t+1)] [Umidade (t+1)] [Pragas (t+1)]"
   ]
  },
  {
   "cell_type": "markdown",
   "id": "67657de7",
   "metadata": {},
   "source": [
    "## Adaptar definir e treinar modelo ##"
   ]
  },
  {
   "cell_type": "code",
   "execution_count": 36,
   "id": "0c666bae",
   "metadata": {},
   "outputs": [
    {
     "name": "stderr",
     "output_type": "stream",
     "text": [
      "INFO:pgmpy: Datatype (N=numerical, C=Categorical Unordered, O=Categorical Ordered) inferred from data: \n",
      " {'Solo_0': 'N', 'Cultura_0': 'N', 'Umidade_0': 'N', 'Pragas_0': 'N', 'Solo_1': 'N', 'Cultura_1': 'N', 'Umidade_1': 'N', 'Pragas_1': 'N'}\n"
     ]
    },
    {
     "name": "stdout",
     "output_type": "stream",
     "text": [
      "Modelo treinado com sucesso.\n"
     ]
    }
   ],
   "source": [
    "dbn_model_multi = DynamicBayesianNetwork()\n",
    "# A ESTRUTURA DA REDE AGORA É MAIS RICA\n",
    "dbn_model_multi.add_edges_from([\n",
    "    # Dependências no tempo t=0\n",
    "    (('Solo', 0), ('Cultura', 0)),\n",
    "    (('Solo', 0), ('Umidade', 0)),\n",
    "    (('Solo', 0), ('Pragas', 0)),\n",
    "    # Dependência temporal\n",
    "    (('Solo', 0), ('Solo', 1)),\n",
    "    # Dependências no tempo t=1\n",
    "    (('Solo', 1), ('Cultura', 1)),\n",
    "    (('Solo', 1), ('Umidade', 1)),\n",
    "    (('Solo', 1), ('Pragas', 1)),\n",
    "])\n",
    "dbn_model_multi.fit(dados_para_treino, estimator=\"MLE\")\n",
    "print(\"Modelo treinado com sucesso.\")"
   ]
  },
  {
   "cell_type": "markdown",
   "id": "a5fa3d9c",
   "metadata": {},
   "source": [
    "## Adaptar avaliação no conjuto de teste ##"
   ]
  },
  {
   "cell_type": "code",
   "execution_count": 37,
   "id": "e4f6e800",
   "metadata": {},
   "outputs": [
    {
     "name": "stderr",
     "output_type": "stream",
     "text": [
      "WARNING:pgmpy:Replacing existing CPD for (Solo, 1)\n"
     ]
    }
   ],
   "source": [
    "lista_reais = []\n",
    "lista_inferidos = []\n",
    "dbn_inference = DBNInference(dbn_model_multi)\n",
    "\n",
    "for talhao_id in ids_teste:\n",
    "    df_talhao_teste = df_teste[df_teste['talhao_id'] == talhao_id]\n",
    "    n_semanas = len(df_talhao_teste)\n",
    "    \n",
    "    # A EVIDÊNCIA AGORA É MUITO MAIS RICA\n",
    "    evidencia_dict = {}\n",
    "    for t in range(n_semanas):\n",
    "        evidencia_dict[('Cultura', t)] = df_talhao_teste['aspecto_cultura_int'].iloc[t]\n",
    "        evidencia_dict[('Umidade', t)] = df_talhao_teste['umidade_solo_int'].iloc[t]\n",
    "        evidencia_dict[('Pragas', t)] = df_talhao_teste['pragas_int'].iloc[t]\n",
    "\n",
    "    variaveis_query = [('Solo', t) for t in range(n_semanas)]\n",
    "    resultado_inferencia = dbn_inference.query(variables=variaveis_query, evidence=evidencia_dict)\n",
    "    \n",
    "    fatores = [f for t, f in sorted(resultado_inferencia.items())]\n",
    "    solo_inferido = [np.argmax(fator.values) for fator in fatores]\n",
    "    \n",
    "    lista_inferidos.extend(solo_inferido)\n",
    "    lista_reais.extend(df_talhao_teste['saude_solo_int'].tolist())"
   ]
  },
  {
   "cell_type": "code",
   "execution_count": 38,
   "id": "3400462b",
   "metadata": {},
   "outputs": [
    {
     "name": "stdout",
     "output_type": "stream",
     "text": [
      "\n",
      "--- ANÁLISE DA PERFORMANCE (MODELO MULTIVARIADO) ---\n",
      "              precision    recall  f1-score   support\n",
      "\n",
      "        Rico       0.89      0.87      0.88      1625\n",
      "    Moderado       0.61      0.59      0.60       727\n",
      "       Pobre       0.51      0.64      0.57       248\n",
      "\n",
      "    accuracy                           0.77      2600\n",
      "   macro avg       0.67      0.70      0.68      2600\n",
      "weighted avg       0.78      0.77      0.77      2600\n",
      "\n"
     ]
    },
    {
     "data": {
      "image/png": "[encoded data removed]",
      "text/plain": [
       "<Figure size 640x480 with 2 Axes>"
      ]
     },
     "metadata": {},
     "output_type": "display_data"
    }
   ],
   "source": [
    "print(\"\\n--- ANÁLISE DA PERFORMANCE (MODELO MULTIVARIADO) ---\")\n",
    "nomes_das_classes = list(map_solo.values())\n",
    "print(classification_report(lista_reais, lista_inferidos, target_names=nomes_das_classes))\n",
    "cm = confusion_matrix(lista_reais, lista_inferidos)\n",
    "disp = ConfusionMatrixDisplay(confusion_matrix=cm, display_labels=nomes_das_classes)\n",
    "disp.plot(cmap=plt.cm.Blues)\n",
    "plt.title(\"Matriz de Confusão - Modelo Multivariado (Teste)\")\n",
    "plt.show()"
   ]
  },
  {
   "cell_type": "markdown",
   "id": "2aab66c9",
   "metadata": {},
   "source": [
    "Perguntas finais a serem respondidas:\n",
    "\n",
    "    Qual foi o impacto na acurácia geral?\n",
    "\n",
    "    O que aconteceu com a nossa classe mais fraca, a Moderado? (A precisão e o recall devem ter melhorado drasticamente).\n",
    "\n",
    "    Vejam o trade-off na classe Pobre: a precisão aumentou muito. O que isso significa para o agricultor na prática? (Menos \"alarmes falsos\", ou seja, menos desperdício de fertilizante).\n",
    "\n",
    "A lição final e mais importante da nossa jornada hoje é: Engenharia de Features. A forma mais poderosa de melhorar um modelo preditivo, muitas vezes, não é usar algoritmos mais complexos ou ter mais do mesmo dado, mas sim enriquecer o modelo com novas fontes de informação de qualidade."
   ]
  }
 ],
 "metadata": {
  "kernelspec": {
   "display_name": "nuevoambiente",
   "language": "python",
   "name": "python3"
  },
  "language_info": {
   "codemirror_mode": {
    "name": "ipython",
    "version": 3
   },
   "file_extension": ".py",
   "mimetype": "text/x-python",
   "name": "python",
   "nbconvert_exporter": "python",
   "pygments_lexer": "ipython3",
   "version": "3.11.11"
  }
 },
 "nbformat": 4,
 "nbformat_minor": 5
}
